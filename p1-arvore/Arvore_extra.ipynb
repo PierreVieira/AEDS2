{
 "cells": [
  {
   "cell_type": "markdown",
   "metadata": {},
   "source": [
    "Nesta árvore, temos um tempo medio de busca de log2, mas o pior caso é quando inserimos números em ordem, o tempo de busca vira n"
   ]
  },
  {
   "cell_type": "markdown",
   "metadata": {},
   "source": [
    "Antes de entregar, certifique-se que tenha executado todos os comandos/códigos deste Jupyter. É obrigatório que todas as saídas tenham sido apresentadas. Perda de 1 ponto caso não tenham feito isso. Qualquer linha de comando/código como a de baixo, você pode executá-la a selecionando e pressionando `ctrl+enter`."
   ]
  },
  {
   "cell_type": "markdown",
   "metadata": {},
   "source": [
    "Nesta prática você deverá adicionar/modificar os métodos da classe `Node`, presente no arquivo `tree.py`, que essa classe representa o nodo de uma árvore binária e, por simplicidade, implementa uma árvore binária. Os métodos e atributos que já foram implementados são o seguinte:"
   ]
  },
  {
   "cell_type": "markdown",
   "metadata": {},
   "source": [
    "- `key`: Valor da chave. Pode possuir qualquer tipo desde, nesse tipo, seja implementado os métodos que sobrecarregam os [operadores de comparação](https://docs.python.org/3.5/reference/datamodel.html#object.__lt__) ou [o total ordering](https://docs.python.org/3.5/library/functools.html#functools.total_ordering). Em nossa prática, vocês podem usar o tipo inteiro\n",
    "- `left`: Objeto da classe `Node` que define o seu filho a esquerda\n",
    "- `right`: Objeto da classe `Node` que define o seu filho a direita\n",
    "- `print_tree` Método que efetua a impressão da árvore\n",
    "- `insert`: Método que insere uma nova chave na árvore\n",
    "- `search`: Método que retorna verdadeiro caso uma chave está presente na árvore"
   ]
  },
  {
   "cell_type": "markdown",
   "metadata": {},
   "source": [
    "**Numeração de nodos:** Existem várias maneiras de numerar os nodos de uma árvore. Uma delas é a seguinte: a raiz recebe o número 1 e qualquer nodo de posição i tem seu filho da esquerda com posição 2\\*i e seu filho da direita com posição 2\\*i+1, como na imagem abaixo."
   ]
  },
  {
   "cell_type": "markdown",
   "metadata": {},
   "source": [
    "<img src=\"imgs/numeracao_arvore_binaria.png\">"
   ]
  },
  {
   "cell_type": "markdown",
   "metadata": {},
   "source": [
    "Você deverá implementar o método `position_node` da classe `Nodo`. Ele deve receber o nodo de que se deseja saber a posição e deve retornar o valor dessa posição. Para validar o método, execute o teste unitário a seguir. Veja que o comando abaixo executa o teste unitário presente no arquivo `tree_test.py`. Analise-o para entender como implementamos testes unitários."
   ]
  },
  {
   "cell_type": "code",
   "execution_count": 1,
   "metadata": {},
   "outputs": [
    {
     "name": "stderr",
     "output_type": "stream",
     "text": [
      "Python was not found but can be installed from the Microsoft Store: https://go.microsoft.com/fwlink?linkID=2082640\n"
     ]
    }
   ],
   "source": [
    "!python3 -m tree_test TestNode.test_position_node"
   ]
  },
  {
   "cell_type": "code",
   "execution_count": null,
   "metadata": {},
   "outputs": [],
   "source": [
    "from tree import Node\n",
    "\n",
    "raiz = Node(10)\n",
    "raiz.insert(3)\n",
    "raiz.insert(11)\n",
    "raiz.position_node(3) \n",
    "      10(1)\n",
    "       /   \\\n",
    "      3(2)  11(3)\n",
    "dire.position_node(11) -> 1\n",
    "           11 (1)"
   ]
  }
 ],
 "metadata": {
  "kernelspec": {
   "display_name": "Python 3",
   "language": "python",
   "name": "python3"
  },
  "language_info": {
   "codemirror_mode": {
    "name": "ipython",
    "version": 3
   },
   "file_extension": ".py",
   "mimetype": "text/x-python",
   "name": "python",
   "nbconvert_exporter": "python",
   "pygments_lexer": "ipython3",
   "version": "3.8.3"
  }
 },
 "nbformat": 4,
 "nbformat_minor": 2
}
