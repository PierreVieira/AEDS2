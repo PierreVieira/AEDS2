{
 "cells": [
  {
   "cell_type": "markdown",
   "metadata": {},
   "source": [
    "Nesta árvore, temos um tempo medio de busca de log2, mas o pior caso é quando inserimos números em ordem, o tempo de busca vira n"
   ]
  },
  {
   "cell_type": "markdown",
   "metadata": {},
   "source": [
    "Antes de entregar, certifique-se que tenha executado todos os comandos/códigos deste Jupyter. É obrigatório que todas as saídas tenham sido apresentadas. Perda de 1 ponto caso não tenham feito isso. Qualquer linha de comando/código como a de baixo, você pode executá-la a selecionando e pressionando `ctrl+enter`."
   ]
  },
  {
   "cell_type": "markdown",
   "metadata": {},
   "source": [
    "Nesta prática você deverá adicionar/modificar os métodos da classe `Node`, presente no arquivo `tree.py`, que essa classe representa o nodo de uma árvore binária e, por simplicidade, implementa uma árvore binária. Os métodos e atributos que já foram implementados são o seguinte:"
   ]
  },
  {
   "cell_type": "markdown",
   "metadata": {},
   "source": [
    "- `key`: Valor da chave. Pode possuir qualquer tipo desde, nesse tipo, seja implementado os métodos que sobrecarregam os [operadores de comparação](https://docs.python.org/3.5/reference/datamodel.html#object.__lt__) ou [o total ordering](https://docs.python.org/3.5/library/functools.html#functools.total_ordering). Em nossa prática, vocês podem usar o tipo inteiro\n",
    "- `left`: Objeto da classe `Node` que define o seu filho a esquerda\n",
    "- `right`: Objeto da classe `Node` que define o seu filho a direita\n",
    "- `print_tree` Método que efetua a impressão da árvore\n",
    "- `insert`: Método que insere uma nova chave na árvore\n",
    "- `search`: Método que retorna verdadeiro caso uma chave está presente na árvore"
   ]
  },
  {
   "cell_type": "markdown",
   "metadata": {},
   "source": [
    "Inicialmente, faça o import na classe Node:"
   ]
  },
  {
   "cell_type": "code",
   "execution_count": 1,
   "metadata": {},
   "outputs": [],
   "source": [
    "from tree import Node"
   ]
  },
  {
   "cell_type": "markdown",
   "metadata": {},
   "source": [
    "**Atividade 1** - crie um contador de execuções do método recursivo `search`. Logo após, crie abaixo 2 árvores com **os mesmos** 8 elementos. Em uma árvore os elementos estarão dispostos de tal forma que o método `search` executará em seu pior caso (considerando o tempo de execução) e, a outra, em seu melhor caso. Apresente quantas execuções do método `search` foram feitas em cada árvore."
   ]
  },
  {
   "cell_type": "markdown",
   "metadata": {},
   "source": [
    "Árvore pior caso:"
   ]
  },
  {
   "cell_type": "code",
   "execution_count": 2,
   "metadata": {},
   "outputs": [
    {
     "name": "stdout",
     "output_type": "stream",
     "text": [
      "\u001b[1;36m====================== PIOR CASO ======================\u001b[m\n",
      "\u001b[0;32mO valor foi encontrado após\u001b[m \u001b[1;31m8\u001b[m \u001b[0;32mchamadas do método search\u001b[m\n"
     ]
    }
   ],
   "source": [
    "\"\"\"\n",
    "O pior caso acontece quando temos a árvore no formato de uma lista encadeada e queremos buscar o último elemento\n",
    "dessa 'lista encadeada'.\n",
    "\"\"\"\n",
    "lista_valores_nos = [i + 1 for i in range(8)]  # Cria uma lista que vai de 1 até 8 em intervalo fechado\n",
    "raiz = Node(lista_valores_nos[0])  # A raiz pega o valor 1\n",
    "for valor in lista_valores_nos[1:]:  # Para cada valor na lista de valores dos nós (começando do segundo)\n",
    "    raiz.insert(valor)  # Insira esse novo nó na àrvore\n",
    "achou, quantidade_de_chamadas = raiz.search(8, retornar_cont_search=True)\n",
    "print('\\033[1;36m' + '='*22 + ' PIOR CASO ' + '='*22+'\\033[m')\n",
    "if achou:\n",
    "    print(f'\\033[0;32mO valor foi encontrado após\\033[m \\033[1;31m{quantidade_de_chamadas}\\033[m \\033[0;32mchamadas '\n",
    "          f'do método search\\033[m')\n",
    "else:\n",
    "    print(f'\\033[0;32mO valor pesquisado não foi enxontrado.\\033[m\\n\\033[0;32mO método search foi executado\\033[m '\n",
    "          f'\\033[1;31m{quantidade_de_chamadas}\\033[m \\033[0;32mvezes\\033[m')\n"
   ]
  },
  {
   "cell_type": "markdown",
   "metadata": {},
   "source": [
    "Árvore melhor caso: "
   ]
  },
  {
   "cell_type": "code",
   "execution_count": 3,
   "metadata": {},
   "outputs": [
    {
     "name": "stdout",
     "output_type": "stream",
     "text": [
      "\u001b[1;36m===================== MELHOR CASO =====================\u001b[m\n",
      "\u001b[0;32mO valor foi encontrado após\u001b[m \u001b[1;31m1\u001b[m \u001b[0;32mchamadas do método search\u001b[m\n"
     ]
    }
   ],
   "source": [
    "\"\"\"\n",
    "O melhor caso acontece quando o elemento que queremos buscar está na raiz. A melhor árvore que favorece a busca é uma árvore\n",
    "balanceada.\n",
    "\"\"\"\n",
    "no = Node(5)\n",
    "for value in range(1, 5):  # Vai de 1 até 4 em intervalo fechado\n",
    "    no.insert(value)  # Insere o valor\n",
    "for value in range(6, 9):  # Vai de 6 até 8 em intervalo fechado\n",
    "    no.insert(value)  # Insere o valor\n",
    "achou, qtde_execucoes = no.search(5, retornar_cont_search=True)  # Melhor caso da busca ocorre quando estamos\n",
    "# pesquisando na raiz\n",
    "print('\\033[1;36m' + '='*21 + ' MELHOR CASO ' + '='*21+'\\033[m')\n",
    "if achou:\n",
    "    print(f'\\033[0;32mO valor foi encontrado após\\033[m \\033[1;31m{qtde_execucoes}\\033[m \\033[0;32mchamadas do método '\n",
    "          f'search\\033[m')\n",
    "else:\n",
    "    print(f'\\033[0;32mO valor pesquisado não foi enxontrado.\\033[m\\n\\033[0;32mO método search foi executado\\033[m '\n",
    "          f'\\033[1;31m{qtde_execucoes}\\033[m \\033[0;32mvezes\\033[m')\n"
   ]
  },
  {
   "cell_type": "markdown",
   "metadata": {},
   "source": [
    "**Atividade 2 - método `to_sorted_array`**: Este método deve retornar um vetor ordenado com os elementos (chaves) por meio do caminhamento na árvore (não é permitido usar a função `sort`). Você pode usar o parâmetro `arr_result` para armazenar a lista de elementos. \n",
    "\n",
    "Antes de fazer esse exercício, atenção quando usamos o valor padrão de um parametro como lista. Esse valor é uma referencia a uma lista que é sempre modificada quando o método é chamado (isso é super contraintuitivo =/). Veja o exemplo abaixo:\n",
    " "
   ]
  },
  {
   "cell_type": "code",
   "execution_count": 4,
   "metadata": {},
   "outputs": [
    {
     "name": "stdout",
     "output_type": "stream",
     "text": [
      "[1]\n",
      "[1, 1]\n",
      "[1, 1, 1]\n"
     ]
    }
   ],
   "source": [
    "class Xuxu():\n",
    "    def metodo(self,arr=[]):\n",
    "        arr.append(1)\n",
    "        print(arr)\n",
    "a = Xuxu()\n",
    "a.metodo()\n",
    "a.metodo()\n",
    "\n",
    "b = Xuxu()\n",
    "b.metodo()"
   ]
  },
  {
   "cell_type": "markdown",
   "metadata": {},
   "source": [
    "Para implementar o método `to_sorted_array` teste usando o exemplo de execução abaixo. Caso você modifique o método `to_sorted_array` você deverá reiniciar o kernel (kernel->restart) para que essa modificação ocorra efetivamente no código abaixo."
   ]
  },
  {
   "cell_type": "code",
   "execution_count": 5,
   "metadata": {},
   "outputs": [
    {
     "data": {
      "text/plain": [
       "[4, 5, 6]"
      ]
     },
     "execution_count": 5,
     "metadata": {},
     "output_type": "execute_result"
    }
   ],
   "source": [
    "root = Node(5)\n",
    "root.insert(6)\n",
    "root.insert(4)\n",
    "root.to_sorted_array()#resultado esperado [4,5,6]"
   ]
  },
  {
   "cell_type": "markdown",
   "metadata": {},
   "source": [
    "Para validar o método, execute o teste unitário a seguir. Veja que o comando abaixo executa o teste unitário presente no arquivo `tree_test.py`. Analise-o para entender como implementamos testes unitários."
   ]
  },
  {
   "cell_type": "code",
   "execution_count": 6,
   "metadata": {},
   "outputs": [
    {
     "name": "stdout",
     "output_type": "stream",
     "text": [
      ".\r\n",
      "----------------------------------------------------------------------\r\n",
      "Ran 1 test in 0.000s\r\n",
      "\r\n",
      "OK\r\n"
     ]
    }
   ],
   "source": [
    "!python3 -m tree_test TestNode.test_to_sorted_array"
   ]
  },
  {
   "cell_type": "markdown",
   "metadata": {},
   "source": [
    "**Atividade 3 - método `max_depth`**: Implemente o método que retorne a profundidade máxima da árvore. Ou seja, o caminho mais longo da raiz até uma folha da árvore. Exemplo de execução: "
   ]
  },
  {
   "cell_type": "code",
   "execution_count": 7,
   "metadata": {},
   "outputs": [
    {
     "data": {
      "text/plain": [
       "3"
      ]
     },
     "execution_count": 7,
     "metadata": {},
     "output_type": "execute_result"
    }
   ],
   "source": [
    "root = Node(5)\n",
    "root.insert(6)\n",
    "root.insert(4)\n",
    "root.insert(3)\n",
    "root.max_depth()#resultado esperado: 3"
   ]
  },
  {
   "cell_type": "markdown",
   "metadata": {},
   "source": [
    "Teste unitário correspondente:"
   ]
  },
  {
   "cell_type": "code",
   "execution_count": 8,
   "metadata": {},
   "outputs": [
    {
     "name": "stdout",
     "output_type": "stream",
     "text": [
      ".\r\n",
      "----------------------------------------------------------------------\r\n",
      "Ran 1 test in 0.000s\r\n",
      "\r\n",
      "OK\r\n"
     ]
    }
   ],
   "source": [
    "!python3 -m tree_test TestNode.test_max_depth"
   ]
  }
 ],
 "metadata": {
  "kernelspec": {
   "display_name": "Python 3",
   "language": "python",
   "name": "python3"
  },
  "language_info": {
   "codemirror_mode": {
    "name": "ipython",
    "version": 3
   },
   "file_extension": ".py",
   "mimetype": "text/x-python",
   "name": "python",
   "nbconvert_exporter": "python",
   "pygments_lexer": "ipython3",
   "version": "3.7.3"
  }
 },
 "nbformat": 4,
 "nbformat_minor": 2
}
